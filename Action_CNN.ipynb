{
  "nbformat": 4,
  "nbformat_minor": 0,
  "metadata": {
    "kernelspec": {
      "name": "python3",
      "display_name": "Python 3"
    },
    "language_info": {
      "codemirror_mode": {
        "name": "ipython",
        "version": 3
      },
      "file_extension": ".py",
      "mimetype": "text/x-python",
      "name": "python",
      "nbconvert_exporter": "python",
      "pygments_lexer": "ipython3",
      "version": "3.6.0"
    },
    "colab": {
      "name": "Action_CNN.ipynb",
      "provenance": [],
      "toc_visible": true
    },
    "accelerator": "GPU"
  },
  "cells": [
    {
      "cell_type": "markdown",
      "metadata": {
        "id": "y_Q8nIc4kPLn",
        "colab_type": "text"
      },
      "source": [
        "# Training a ConvNet PyTorch\n",
        "\n",
        "In this notebook, you'll learn how to use the powerful PyTorch framework to specify a conv net architecture and train it on the human action recognition dataset. \n"
      ]
    },
    {
      "cell_type": "code",
      "metadata": {
        "id": "TFG8Z569kPLq",
        "colab_type": "code",
        "colab": {}
      },
      "source": [
        "import torch\n",
        "import torch.nn as nn\n",
        "import torch.optim as optim\n",
        "from torch.autograd import Variable\n",
        "from torch.utils.data import DataLoader,sampler,Dataset\n",
        "import torchvision.datasets as dset\n",
        "import torchvision.transforms as T\n",
        "import timeit\n",
        "from PIL import Image\n",
        "import os\n",
        "import numpy as np\n",
        "import scipy.io\n"
      ],
      "execution_count": 0,
      "outputs": []
    },
    {
      "cell_type": "markdown",
      "metadata": {
        "id": "JTtcXky5kPLt",
        "colab_type": "text"
      },
      "source": [
        "## What's this PyTorch business?\n",
        "\n",
        "* When using a framework like PyTorch or TensorFlow you can harness the power of the GPU for your own custom neural network architectures without having to write CUDA code directly.\n",
        "* this notebook will walk you through much of what you need to do to train models using pytorch. if you want to learn more or need further clarification on topics that aren't fully explained here, here are 2 good Pytorch tutorials. 1): http://pytorch.org/tutorials/beginner/deep_learning_60min_blitz.html 2)http://pytorch.org/tutorials/beginner/pytorch_with_examples.html\n",
        "* It's not necessary to have a GPU for this homework, using a GPU can make your code run faster.\n"
      ]
    },
    {
      "cell_type": "code",
      "metadata": {
        "id": "xlbcPp6nkY1i",
        "colab_type": "code",
        "outputId": "d02eefdb-b3ee-4f24-f4a8-1ce140760cce",
        "colab": {
          "base_uri": "https://localhost:8080/",
          "height": 122
        }
      },
      "source": [
        "from google.colab import drive\n",
        "drive.mount('/content/drive')"
      ],
      "execution_count": 0,
      "outputs": [
        {
          "output_type": "stream",
          "text": [
            "Go to this URL in a browser: https://accounts.google.com/o/oauth2/auth?client_id=947318989803-6bn6qk8qdgf4n4g3pfee6491hc0brc4i.apps.googleusercontent.com&redirect_uri=urn%3aietf%3awg%3aoauth%3a2.0%3aoob&response_type=code&scope=email%20https%3a%2f%2fwww.googleapis.com%2fauth%2fdocs.test%20https%3a%2f%2fwww.googleapis.com%2fauth%2fdrive%20https%3a%2f%2fwww.googleapis.com%2fauth%2fdrive.photos.readonly%20https%3a%2f%2fwww.googleapis.com%2fauth%2fpeopleapi.readonly\n",
            "\n",
            "Enter your authorization code:\n",
            "··········\n",
            "Mounted at /content/drive\n"
          ],
          "name": "stdout"
        }
      ]
    },
    {
      "cell_type": "code",
      "metadata": {
        "id": "X1D1OaU8kdNO",
        "colab_type": "code",
        "outputId": "627ac4b3-4c86-40e4-ed15-91149d850923",
        "colab": {
          "base_uri": "https://localhost:8080/",
          "height": 34
        }
      },
      "source": [
        "cd '/content/drive/My Drive/hw6(1)/Question2'"
      ],
      "execution_count": 0,
      "outputs": [
        {
          "output_type": "stream",
          "text": [
            "/content/drive/My Drive/hw6(1)/Question2\n"
          ],
          "name": "stdout"
        }
      ]
    },
    {
      "cell_type": "markdown",
      "metadata": {
        "id": "_Wpa_7j-kPLt",
        "colab_type": "text"
      },
      "source": [
        "## Load Datasets\n",
        "\n",
        "In this part, we will load the action recognition dataset for the neural network. In order to load data from our custom dataset, we need to write a custom Dataloader. If you put q3_2_data.mat, /valClips,/trainClips,/testClips under the folder of ./data/ , you do not need to change anything in this part."
      ]
    },
    {
      "cell_type": "markdown",
      "metadata": {
        "id": "lJ118NmjkPLu",
        "colab_type": "text"
      },
      "source": [
        "First, load the labels of the dataset, you should write your path of the q3_2_data.mat file."
      ]
    },
    {
      "cell_type": "code",
      "metadata": {
        "id": "d57c8WsVkPLu",
        "colab_type": "code",
        "outputId": "c1e8e1ca-ae32-4242-b7a1-552b9bf1b647",
        "colab": {
          "base_uri": "https://localhost:8080/",
          "height": 51
        }
      },
      "source": [
        "label_mat=scipy.io.loadmat('./data/hw6_data.mat')\n",
        "label_train=label_mat['trLb']\n",
        "print(len(label_train))\n",
        "label_val=label_mat['valLb']\n",
        "print(len(label_val))"
      ],
      "execution_count": 0,
      "outputs": [
        {
          "output_type": "stream",
          "text": [
            "7770\n",
            "2230\n"
          ],
          "name": "stdout"
        }
      ]
    },
    {
      "cell_type": "markdown",
      "metadata": {
        "id": "CeIJYvVqkPLw",
        "colab_type": "text"
      },
      "source": [
        "### Dataset class\n",
        "\n",
        "torch.utils.data.Dataset is an abstract class representing a dataset. The custom dataset should inherit Dataset and override the following methods:\n",
        "\n",
        "    __len__ so that len(dataset) returns the size of the dataset.\n",
        "    __getitem__ to support the indexing such that dataset[i] can be used to get ith sample\n",
        "\n",
        "Let’s create a dataset class for our action recognition dataset. We will read images in __getitem__. This is memory efficient because all the images are not stored in the memory at once but read as required.\n",
        "\n",
        "Sample of our dataset will be a dict {'image':image,'img_path':img_path,'Label':Label}. Our datset will take an optional argument transform so that any required processing can be applied on the sample. "
      ]
    },
    {
      "cell_type": "code",
      "metadata": {
        "id": "u-X6TfsOkPLx",
        "colab_type": "code",
        "colab": {}
      },
      "source": [
        "class ActionDataset(Dataset):\n",
        "    \"\"\"Action dataset.\"\"\"\n",
        "\n",
        "    def __init__(self,  root_dir,labels=[], transform=None):\n",
        "        \"\"\"\n",
        "        Args:\n",
        "            root_dir (string): Directory with all the images.\n",
        "            labels(list): labels if images.\n",
        "            transform (callable, optional): Optional transform to be applied on a sample.\n",
        "        \"\"\"\n",
        "        self.root_dir = root_dir\n",
        "        self.transform = transform\n",
        "        self.length=len(os.listdir(self.root_dir))\n",
        "        self.labels=labels\n",
        "    def __len__(self):\n",
        "        return self.length*3\n",
        "\n",
        "    def __getitem__(self, idx):\n",
        "        folder=int(idx/3)+1\n",
        "        imidx=idx%3+1\n",
        "            \n",
        "        folder=format(folder,'05d')\n",
        "        imgname=str(imidx)+'.jpg'\n",
        "        img_path = os.path.join(self.root_dir,\n",
        "                                folder,imgname)\n",
        "        image = Image.open(img_path)\n",
        "        if len(self.labels)!=0:\n",
        "            Label=self.labels[int(idx/3)][0]-1\n",
        "        if self.transform:\n",
        "            image = self.transform(image)\n",
        "        if len(self.labels)!=0:\n",
        "            sample={'image':image,'img_path':img_path,'Label':Label}\n",
        "        else:\n",
        "            sample={'image':image,'img_path':img_path}\n",
        "        return sample"
      ],
      "execution_count": 0,
      "outputs": []
    },
    {
      "cell_type": "markdown",
      "metadata": {
        "id": "8qOLLypQkPLz",
        "colab_type": "text"
      },
      "source": [
        "Iterating over the dataset by a for loop."
      ]
    },
    {
      "cell_type": "code",
      "metadata": {
        "id": "FoFqhPs_kPL0",
        "colab_type": "code",
        "outputId": "ead1ef29-bc4a-45d8-9ff7-605c8bd5587c",
        "colab": {
          "base_uri": "https://localhost:8080/",
          "height": 527
        }
      },
      "source": [
        "image_dataset = ActionDataset(root_dir='./data/trainClips/',\\\n",
        "                            labels=label_train,transform=T.ToTensor())\n",
        "\n",
        "#iterating though the dataset\n",
        "for i in range(10):\n",
        "    sample=image_dataset[i]\n",
        "    print(sample['image'].shape)\n",
        "    print(sample['Label'])\n",
        "    print(sample['img_path'])\n",
        "     \n",
        "   "
      ],
      "execution_count": 0,
      "outputs": [
        {
          "output_type": "stream",
          "text": [
            "torch.Size([3, 64, 64])\n",
            "0.0\n",
            "./data/trainClips/00001/1.jpg\n",
            "torch.Size([3, 64, 64])\n",
            "0.0\n",
            "./data/trainClips/00001/2.jpg\n",
            "torch.Size([3, 64, 64])\n",
            "0.0\n",
            "./data/trainClips/00001/3.jpg\n",
            "torch.Size([3, 64, 64])\n",
            "0.0\n",
            "./data/trainClips/00002/1.jpg\n",
            "torch.Size([3, 64, 64])\n",
            "0.0\n",
            "./data/trainClips/00002/2.jpg\n",
            "torch.Size([3, 64, 64])\n",
            "0.0\n",
            "./data/trainClips/00002/3.jpg\n",
            "torch.Size([3, 64, 64])\n",
            "0.0\n",
            "./data/trainClips/00003/1.jpg\n",
            "torch.Size([3, 64, 64])\n",
            "0.0\n",
            "./data/trainClips/00003/2.jpg\n",
            "torch.Size([3, 64, 64])\n",
            "0.0\n",
            "./data/trainClips/00003/3.jpg\n",
            "torch.Size([3, 64, 64])\n",
            "0.0\n",
            "./data/trainClips/00004/1.jpg\n"
          ],
          "name": "stdout"
        }
      ]
    },
    {
      "cell_type": "markdown",
      "metadata": {
        "id": "3inFXhDAkPL2",
        "colab_type": "text"
      },
      "source": [
        "We can iterate over the created dataset with a 'for' loop as before. However, we are losing a lot of features by using a simple for loop to iterate over the data. In particular, we are missing out on:\n",
        "\n",
        "* Batching the data\n",
        "* Shuffling the data\n",
        "* Load the data in parallel using multiprocessing workers.\n",
        "\n",
        "torch.utils.data.DataLoader is an iterator which provides all these features. "
      ]
    },
    {
      "cell_type": "code",
      "metadata": {
        "id": "QNXuvyTJkPL2",
        "colab_type": "code",
        "outputId": "495cbcd9-abd7-4655-f60a-029c0d7d5aec",
        "colab": {
          "base_uri": "https://localhost:8080/",
          "height": 411
        }
      },
      "source": [
        "image_dataloader = DataLoader(image_dataset, batch_size=4,\n",
        "                        shuffle=True, num_workers=4)\n",
        "\n",
        "\n",
        "for i,sample in enumerate(image_dataloader):\n",
        "    sample['image']=sample['image'].cuda()\n",
        "    print(i,sample['image'].shape,sample['img_path'],sample['Label'])\n",
        "    if i>20: \n",
        "        break"
      ],
      "execution_count": 0,
      "outputs": [
        {
          "output_type": "stream",
          "text": [
            "0 torch.Size([4, 3, 64, 64]) ['./data/trainClips/03429/3.jpg', './data/trainClips/03516/2.jpg', './data/trainClips/06933/1.jpg', './data/trainClips/06521/2.jpg'] tensor([3., 3., 8., 8.])\n",
            "1 torch.Size([4, 3, 64, 64]) ['./data/trainClips/06318/1.jpg', './data/trainClips/00889/2.jpg', './data/trainClips/05804/1.jpg', './data/trainClips/01097/3.jpg'] tensor([7., 0., 7., 1.])\n",
            "2 torch.Size([4, 3, 64, 64]) ['./data/trainClips/00823/1.jpg', './data/trainClips/03598/3.jpg', './data/trainClips/05481/1.jpg', './data/trainClips/03838/1.jpg'] tensor([0., 4., 6., 4.])\n",
            "3 torch.Size([4, 3, 64, 64]) ['./data/trainClips/01839/3.jpg', './data/trainClips/00528/3.jpg', './data/trainClips/03704/1.jpg', './data/trainClips/06067/3.jpg'] tensor([2., 0., 4., 7.])\n",
            "4 torch.Size([4, 3, 64, 64]) ['./data/trainClips/05368/1.jpg', './data/trainClips/03984/1.jpg', './data/trainClips/06888/2.jpg', './data/trainClips/00079/2.jpg'] tensor([6., 4., 8., 0.])\n",
            "5 torch.Size([4, 3, 64, 64]) ['./data/trainClips/07644/3.jpg', './data/trainClips/02996/3.jpg', './data/trainClips/07145/2.jpg', './data/trainClips/06516/3.jpg'] tensor([9., 3., 9., 8.])\n",
            "6 torch.Size([4, 3, 64, 64]) ['./data/trainClips/00786/3.jpg', './data/trainClips/07415/1.jpg', './data/trainClips/00005/2.jpg', './data/trainClips/02548/2.jpg'] tensor([0., 9., 0., 2.])\n",
            "7 torch.Size([4, 3, 64, 64]) ['./data/trainClips/03206/1.jpg', './data/trainClips/02526/1.jpg', './data/trainClips/00068/2.jpg', './data/trainClips/01937/3.jpg'] tensor([3., 2., 0., 2.])\n",
            "8 torch.Size([4, 3, 64, 64]) ['./data/trainClips/00310/1.jpg', './data/trainClips/03264/2.jpg', './data/trainClips/05301/1.jpg', './data/trainClips/02124/1.jpg'] tensor([0., 3., 6., 2.])\n",
            "9 torch.Size([4, 3, 64, 64]) ['./data/trainClips/05039/1.jpg', './data/trainClips/07033/3.jpg', './data/trainClips/07274/1.jpg', './data/trainClips/02718/1.jpg'] tensor([6., 8., 9., 3.])\n",
            "10 torch.Size([4, 3, 64, 64]) ['./data/trainClips/05452/3.jpg', './data/trainClips/07087/2.jpg', './data/trainClips/07322/3.jpg', './data/trainClips/01418/2.jpg'] tensor([6., 8., 9., 1.])\n",
            "11 torch.Size([4, 3, 64, 64]) ['./data/trainClips/01894/2.jpg', './data/trainClips/02556/1.jpg', './data/trainClips/03734/1.jpg', './data/trainClips/02441/3.jpg'] tensor([2., 2., 4., 2.])\n",
            "12 torch.Size([4, 3, 64, 64]) ['./data/trainClips/03875/2.jpg', './data/trainClips/06490/1.jpg', './data/trainClips/06520/2.jpg', './data/trainClips/04311/1.jpg'] tensor([4., 8., 8., 5.])\n",
            "13 torch.Size([4, 3, 64, 64]) ['./data/trainClips/05355/2.jpg', './data/trainClips/00263/1.jpg', './data/trainClips/01007/1.jpg', './data/trainClips/02200/3.jpg'] tensor([6., 0., 1., 2.])\n",
            "14 torch.Size([4, 3, 64, 64]) ['./data/trainClips/01180/3.jpg', './data/trainClips/03415/1.jpg', './data/trainClips/04121/3.jpg', './data/trainClips/01029/3.jpg'] tensor([1., 3., 4., 1.])\n",
            "15 torch.Size([4, 3, 64, 64]) ['./data/trainClips/06567/1.jpg', './data/trainClips/06465/1.jpg', './data/trainClips/03704/3.jpg', './data/trainClips/01106/1.jpg'] tensor([8., 7., 4., 1.])\n",
            "16 torch.Size([4, 3, 64, 64]) ['./data/trainClips/05001/2.jpg', './data/trainClips/01029/2.jpg', './data/trainClips/06727/1.jpg', './data/trainClips/01089/1.jpg'] tensor([6., 1., 8., 1.])\n",
            "17 torch.Size([4, 3, 64, 64]) ['./data/trainClips/06855/3.jpg', './data/trainClips/03903/2.jpg', './data/trainClips/07250/2.jpg', './data/trainClips/03003/3.jpg'] tensor([8., 4., 9., 3.])\n",
            "18 torch.Size([4, 3, 64, 64]) ['./data/trainClips/05314/3.jpg', './data/trainClips/06674/1.jpg', './data/trainClips/07478/3.jpg', './data/trainClips/00219/3.jpg'] tensor([6., 8., 9., 0.])\n",
            "19 torch.Size([4, 3, 64, 64]) ['./data/trainClips/02145/3.jpg', './data/trainClips/02363/3.jpg', './data/trainClips/04049/3.jpg', './data/trainClips/05326/3.jpg'] tensor([2., 2., 4., 6.])\n",
            "20 torch.Size([4, 3, 64, 64]) ['./data/trainClips/06775/1.jpg', './data/trainClips/00520/3.jpg', './data/trainClips/07010/3.jpg', './data/trainClips/05657/3.jpg'] tensor([8., 0., 8., 7.])\n",
            "21 torch.Size([4, 3, 64, 64]) ['./data/trainClips/03741/3.jpg', './data/trainClips/04007/3.jpg', './data/trainClips/02135/1.jpg', './data/trainClips/04962/1.jpg'] tensor([4., 4., 2., 5.])\n"
          ],
          "name": "stdout"
        }
      ]
    },
    {
      "cell_type": "markdown",
      "metadata": {
        "id": "BbfOTlKbkPL4",
        "colab_type": "text"
      },
      "source": [
        "Dataloaders for the training, validationg and testing set. "
      ]
    },
    {
      "cell_type": "code",
      "metadata": {
        "id": "iCKIXTeBkPL5",
        "colab_type": "code",
        "colab": {}
      },
      "source": [
        "image_dataset_train=ActionDataset(root_dir='./data/trainClips/',labels=label_train,transform=T.ToTensor())\n",
        "\n",
        "image_dataloader_train = DataLoader(image_dataset_train, batch_size=32,\n",
        "                        shuffle=True, num_workers=4)\n",
        "image_dataset_val=ActionDataset(root_dir='./data/valClips/',labels=label_val,transform=T.ToTensor())\n",
        "\n",
        "image_dataloader_val = DataLoader(image_dataset_val, batch_size=32,\n",
        "                        shuffle=False, num_workers=4)\n",
        "image_dataset_test=ActionDataset(root_dir='./data/testClips/',labels=[],transform=T.ToTensor())\n",
        "\n",
        "image_dataloader_test = DataLoader(image_dataset_test, batch_size=32,\n",
        "                        shuffle=False, num_workers=4)"
      ],
      "execution_count": 0,
      "outputs": []
    },
    {
      "cell_type": "code",
      "metadata": {
        "id": "mgmom1mqkPL6",
        "colab_type": "code",
        "colab": {}
      },
      "source": [
        "dtype = torch.FloatTensor # the CPU datatype\n",
        "# Constant to control how frequently we print train loss\n",
        "print_every = 100\n",
        "# This is a little utility that we'll use to reset the model\n",
        "# if we want to re-initialize all our parameters\n",
        "def reset(m):\n",
        "    if hasattr(m, 'reset_parameters'):\n",
        "        m.reset_parameters()"
      ],
      "execution_count": 0,
      "outputs": []
    },
    {
      "cell_type": "markdown",
      "metadata": {
        "id": "GHpDCzJfkPL8",
        "colab_type": "text"
      },
      "source": [
        "## Example Model\n",
        "\n",
        "### Some assorted tidbits\n",
        "\n",
        "Let's start by looking at a simple model. First, note that PyTorch operates on Tensors, which are n-dimensional arrays functionally analogous to numpy's ndarrays, with the additional feature that they can be used for computations on GPUs.\n",
        "\n",
        "We'll provide you with a Flatten function, which we explain here. Remember that our image data (and more relevantly, our intermediate feature maps) are initially N x C x H x W, where:\n",
        "* N is the number of datapoints\n",
        "* C is the number of image channels. \n",
        "* H is the height of the intermediate feature map in pixels\n",
        "* W is the height of the intermediate feature map in pixels\n",
        "\n",
        "This is the right way to represent the data when we are doing something like a 2D convolution, that needs spatial understanding of where the intermediate features are relative to each other. When we input  data into fully connected affine layers, however, we want each datapoint to be represented by a single vector -- it's no longer useful to segregate the different channels, rows, and columns of the data. So, we use a \"Flatten\" operation to collapse the C x H x W values per representation into a single long vector. The Flatten function below first reads in the N, C, H, and W values from a given batch of data, and then returns a \"view\" of that data. \"View\" is analogous to numpy's \"reshape\" method: it reshapes x's dimensions to be N x ??, where ?? is allowed to be anything (in this case, it will be C x H x W, but we don't need to specify that explicitly). "
      ]
    },
    {
      "cell_type": "code",
      "metadata": {
        "id": "YQNJk6dFkPL9",
        "colab_type": "code",
        "colab": {}
      },
      "source": [
        "class Flatten(nn.Module):\n",
        "    def forward(self, x):\n",
        "        N, C, H, W = x.size() # read in N, C, H, W\n",
        "        return x.view(N, -1)  # \"flatten\" the C * H * W values into a single vector per image"
      ],
      "execution_count": 0,
      "outputs": []
    },
    {
      "cell_type": "markdown",
      "metadata": {
        "id": "rzOtWltAkPL_",
        "colab_type": "text"
      },
      "source": [
        "### The example model itself\n",
        "\n",
        "The first step to training your own model is defining its architecture.\n",
        "\n",
        "Here's an example of a convolutional neural network defined in PyTorch -- try to understand what each line is doing, remembering that each layer is composed upon the previous layer. We haven't trained anything yet - that'll come next - for now, we want you to understand how everything gets set up.  nn.Sequential is a container which applies each layer\n",
        "one after the other.\n",
        "\n",
        "In this example, you see 2D convolutional layers (Conv2d), ReLU activations, and fully-connected layers (Linear). You also see the Cross-Entropy loss function, and the Adam optimizer being used. \n",
        "\n",
        "Make sure you understand why the parameters of the Linear layer are 10092 and 10.\n"
      ]
    },
    {
      "cell_type": "code",
      "metadata": {
        "id": "bb4KAvHtkPL_",
        "colab_type": "code",
        "colab": {}
      },
      "source": [
        "# Here's where we define the architecture of the model... \n",
        "simple_model = nn.Sequential(\n",
        "                nn.Conv2d(3, 32, kernel_size=7, stride=2),\n",
        "                nn.ReLU(inplace=True),\n",
        "                Flatten(), # see above for explanation\n",
        "                nn.Linear(10092, 10), # affine layer\n",
        "              )\n",
        "\n",
        "# Set the type of all data in this model to be FloatTensor \n",
        "simple_model.type(dtype)\n",
        "\n",
        "loss_fn = nn.CrossEntropyLoss().type(dtype)\n",
        "optimizer = optim.Adam(simple_model.parameters(), lr=1e-2)"
      ],
      "execution_count": 0,
      "outputs": []
    },
    {
      "cell_type": "markdown",
      "metadata": {
        "id": "e_Z0WUTfkPMB",
        "colab_type": "text"
      },
      "source": [
        "PyTorch supports many other layer types, loss functions, and optimizers - you will experiment with these next. Here's the official API documentation for these (if any of the parameters used above were unclear, this resource will also be helpful). \n",
        "\n",
        "* Layers: http://pytorch.org/docs/nn.html\n",
        "* Activations: http://pytorch.org/docs/nn.html#non-linear-activations\n",
        "* Loss functions: http://pytorch.org/docs/nn.html#loss-functions\n",
        "* Optimizers: http://pytorch.org/docs/optim.html#algorithms"
      ]
    },
    {
      "cell_type": "markdown",
      "metadata": {
        "id": "SII9VveikPMC",
        "colab_type": "text"
      },
      "source": [
        "## Training a specific model\n",
        "\n",
        "In this section, we're going to specify a model for you to construct. The goal here isn't to get good performance (that'll be next), but instead to get comfortable with understanding the PyTorch documentation and configuring your own model. \n",
        "\n",
        "Using the code provided above as guidance, and using the following PyTorch documentation, specify a model with the following architecture:\n",
        "\n",
        "* 7x7 Convolutional Layer with 8 filters and stride of 1\n",
        "* ReLU Activation Layer\n",
        "* 2x2 Max Pooling layer with a stride of 2\n",
        "* 7x7 Convolutional Layer with 16 filters and stride of 1\n",
        "* ReLU Activation Layer\n",
        "* 2x2 Max Pooling layer with a stride of 2\n",
        "* Flatten the feature map\n",
        "* ReLU Activation Layer\n",
        "* Affine layer to map input units to 10 outputs, you need to figure out the input size here.\n"
      ]
    },
    {
      "cell_type": "code",
      "metadata": {
        "id": "ulsVkygkkPMC",
        "colab_type": "code",
        "colab": {}
      },
      "source": [
        "fixed_model_base = nn.Sequential( \n",
        "   nn.Conv2d(3, 8, kernel_size = 7),\n",
        "   nn.ReLU(inplace = True),\n",
        "   nn.MaxPool2d(2, stride=2),\n",
        "   nn.Conv2d(8, 16, kernel_size = 7),\n",
        "   nn.ReLU(inplace = True),\n",
        "   nn.MaxPool2d(2, 2),\n",
        "   Flatten(),\n",
        "   nn.ReLU(inplace = True),\n",
        "   nn.Linear(1936, 10)\n",
        ")\n",
        "\n",
        "\n",
        "fixed_model = fixed_model_base.type(dtype)"
      ],
      "execution_count": 0,
      "outputs": []
    },
    {
      "cell_type": "markdown",
      "metadata": {
        "id": "Vg90TYlmkPME",
        "colab_type": "text"
      },
      "source": [
        "To make sure you're doing the right thing, use the following tool to check the dimensionality of your output (it should be 32 x 10, since our batches have size 32 and the output of the final affine layer should be 10, corresponding to our 10 classes):"
      ]
    },
    {
      "cell_type": "code",
      "metadata": {
        "id": "T-kN1jWkkPMF",
        "colab_type": "code",
        "outputId": "630df3c2-7000-4203-ef4f-7397def534fd",
        "colab": {
          "base_uri": "https://localhost:8080/",
          "height": 51
        }
      },
      "source": [
        "## Now we're going to feed a random batch into the model you defined and make sure the output is the right size\n",
        "x = torch.randn(32, 3, 64, 64).type(dtype)\n",
        "x_var = Variable(x.type(dtype)) # Construct a PyTorch Variable out of your input data\n",
        "ans = fixed_model(x_var)        # Feed it through the model! \n",
        "\n",
        "# Check to make sure what comes out of your model\n",
        "# is the right dimensionality... this should be True\n",
        "# if you've done everything correctly\n",
        "print(np.array(ans.size()))\n",
        "np.array_equal(np.array(ans.size()), np.array([32, 10]))   \n"
      ],
      "execution_count": 0,
      "outputs": [
        {
          "output_type": "stream",
          "text": [
            "[32 10]\n"
          ],
          "name": "stdout"
        },
        {
          "output_type": "execute_result",
          "data": {
            "text/plain": [
              "True"
            ]
          },
          "metadata": {
            "tags": []
          },
          "execution_count": 14
        }
      ]
    },
    {
      "cell_type": "markdown",
      "metadata": {
        "id": "29GrukUTkPMG",
        "colab_type": "text"
      },
      "source": [
        "### Train the model.\n",
        "\n",
        "Now that you've seen how to define a model and do a single forward pass of some data through it, let's  walk through how you'd actually train one whole epoch over your training data (using the fixed_model_base we provided above).\n",
        "\n",
        "Make sure you understand how each PyTorch function used below corresponds to what you implemented in your custom neural network implementation.\n",
        "\n",
        "Note that because we are not resetting the weights anywhere below, if you run the cell multiple times, you are effectively training multiple epochs (so your performance should improve).\n",
        "\n",
        "First, set up an RMSprop optimizer (using a 1e-4 learning rate) and a cross-entropy loss function:"
      ]
    },
    {
      "cell_type": "code",
      "metadata": {
        "id": "Ad31Fm8_kPMH",
        "colab_type": "code",
        "colab": {}
      },
      "source": [
        "################ 2nd TODO  (5 points)##################\n",
        "optimizer = optim.RMSprop(fixed_model.parameters(), lr=1e-4)\n",
        "loss_fn = nn.CrossEntropyLoss().type(dtype)"
      ],
      "execution_count": 0,
      "outputs": []
    },
    {
      "cell_type": "code",
      "metadata": {
        "id": "f7PHBw5odzZC",
        "colab_type": "code",
        "outputId": "485dabcc-d50f-425a-dad5-fd89c25ed13f",
        "colab": {
          "base_uri": "https://localhost:8080/",
          "height": 136
        }
      },
      "source": [
        "# This sets the model in \"training\" mode. \n",
        "# This is relevant for some layers that may have different behavior\n",
        "# in training mode vs testing mode, such as Dropout and BatchNorm. \n",
        "fixed_model.train()\n",
        "\n",
        "# Load one batch at a time.\n",
        "for t, sample in enumerate(image_dataloader_train):\n",
        "    x_var = Variable(sample['image'])\n",
        "    #print(type(x_var.data))\n",
        "    #print(x_var.shape)\n",
        "    y_var = Variable(sample['Label']).long()\n",
        "\n",
        "    # This is the forward pass: predict the scores for each class, for each x in the batch.\n",
        "    scores = fixed_model(x_var)\n",
        "    \n",
        "    # Use the correct y values and the predicted y values to compute the loss.\n",
        "    loss = loss_fn(scores, y_var)\n",
        "    \n",
        "    if (t + 1) % print_every == 0:\n",
        "      print('t = %d, loss = %.4f' % (t + 1, loss.item()))\n",
        "\n",
        "    # Zero out all of the gradients for the variables which the optimizer will update.\n",
        "    optimizer.zero_grad()\n",
        "    \n",
        "    # This is the backwards pass: compute the gradient of the loss with respect to each \n",
        "    # parameter of the model.\n",
        "    loss.backward()\n",
        "    \n",
        "    # Actually update the parameters of the model using the gradients computed by the backwards pass.\n",
        "    optimizer.step()"
      ],
      "execution_count": 0,
      "outputs": [
        {
          "output_type": "stream",
          "text": [
            "t = 100, loss = 1.7035\n",
            "t = 200, loss = 1.3513\n",
            "t = 300, loss = 1.3609\n",
            "t = 400, loss = 1.6236\n",
            "t = 500, loss = 1.5229\n",
            "t = 600, loss = 1.0106\n",
            "t = 700, loss = 0.9874\n"
          ],
          "name": "stdout"
        }
      ]
    },
    {
      "cell_type": "markdown",
      "metadata": {
        "id": "HFkfU_pmkPMK",
        "colab_type": "text"
      },
      "source": [
        "Now you've seen how the training process works in PyTorch. To save you writing boilerplate code, we're providing the following helper functions to help you train for multiple epochs and check the accuracy of your model:"
      ]
    },
    {
      "cell_type": "code",
      "metadata": {
        "id": "6fBkxITskPML",
        "colab_type": "code",
        "colab": {}
      },
      "source": [
        "def train(model, loss_fn, optimizer, dataloader, num_epochs = 1):\n",
        "    for epoch in range(num_epochs):\n",
        "        print('Starting epoch %d / %d' % (epoch + 1, num_epochs))\n",
        "        model.train()\n",
        "        for t, sample in enumerate(dataloader):\n",
        "            x_var = Variable(sample['image'])\n",
        "            y_var = Variable(sample['Label'].long())\n",
        "\n",
        "            scores = model(x_var)\n",
        "            \n",
        "            loss = loss_fn(scores, y_var)\n",
        "            if (t + 1) % print_every == 0:\n",
        "                print('t = %d, loss = %.4f' % (t + 1, loss.item()))\n",
        "\n",
        "            optimizer.zero_grad()\n",
        "            loss.backward()\n",
        "            optimizer.step()\n",
        "\n",
        "def check_accuracy(model, loader):\n",
        "    '''\n",
        "    if loader.dataset.train:\n",
        "        print('Checking accuracy on validation set')\n",
        "    else:\n",
        "        print('Checking accuracy on test set')  \n",
        "    '''\n",
        "    num_correct = 0\n",
        "    num_samples = 0\n",
        "    model.eval() # Put the model in test mode (the opposite of model.train(), essentially)\n",
        "    for t, sample in enumerate(loader):\n",
        "        x_var = Variable(sample['image'])\n",
        "        y_var = sample['Label']\n",
        "\n",
        "        scores = model(x_var)\n",
        "        _, preds = scores.data.max(1)\n",
        "\n",
        "        num_correct += (preds.numpy() == y_var.numpy()).sum()\n",
        "        num_samples += preds.size(0)\n",
        "    acc = float(num_correct) / num_samples\n",
        "    print('Got %d / %d correct (%.2f)' % (num_correct, num_samples, 100 * acc))\n",
        "    \n",
        "    \n",
        "\n"
      ],
      "execution_count": 0,
      "outputs": []
    },
    {
      "cell_type": "markdown",
      "metadata": {
        "id": "0C9ZumlJkPMM",
        "colab_type": "text"
      },
      "source": [
        "### Check the accuracy of the model.\n",
        "\n",
        "Let's see the train and check_accuracy code in action -- feel free to use these methods when evaluating the models you develop below.\n",
        "\n",
        "You should get a training loss of around 1.0-1.2, and a validation accuracy of around 50-60%. As mentioned above, if you re-run the cells, you'll be training more epochs, so your performance will improve past these numbers.\n",
        "\n",
        "But don't worry about getting these numbers better -- this was just practice before you tackle designing your own model."
      ]
    },
    {
      "cell_type": "code",
      "metadata": {
        "id": "5qliNDSOkPMN",
        "colab_type": "code",
        "outputId": "3f25f9be-9e54-42a1-f2ad-0a3182380042",
        "colab": {
          "base_uri": "https://localhost:8080/",
          "height": 170
        }
      },
      "source": [
        "torch.random.manual_seed(12345)\n",
        "fixed_model.cpu()\n",
        "fixed_model.apply(reset) \n",
        "fixed_model.train() \n",
        "train(fixed_model, loss_fn, optimizer,image_dataloader_train, num_epochs=1) \n",
        "check_accuracy(fixed_model, image_dataloader_train)# check accuracy on the training set\n"
      ],
      "execution_count": 0,
      "outputs": [
        {
          "output_type": "stream",
          "text": [
            "Starting epoch 1 / 1\n",
            "t = 100, loss = 2.2830\n",
            "t = 200, loss = 2.2481\n",
            "t = 300, loss = 2.1265\n",
            "t = 400, loss = 1.8208\n",
            "t = 500, loss = 1.6640\n",
            "t = 600, loss = 1.5120\n",
            "t = 700, loss = 1.4579\n",
            "Got 12050 / 23310 correct (51.69)\n"
          ],
          "name": "stdout"
        }
      ]
    },
    {
      "cell_type": "markdown",
      "metadata": {
        "id": "fSrs8H9IkPMQ",
        "colab_type": "text"
      },
      "source": [
        "### Don't forget the validation set!\n",
        "\n",
        "And note that you can use the check_accuracy function to evaluate on the validation set, by passing **image_dataloader_val** as the second argument to check_accuracy. The accuracy on validation set is arround 40-50%."
      ]
    },
    {
      "cell_type": "code",
      "metadata": {
        "id": "TuKz-7nPkPMR",
        "colab_type": "code",
        "outputId": "06eb1c3d-5367-4f56-f646-df88a59635d9",
        "colab": {
          "base_uri": "https://localhost:8080/",
          "height": 34
        }
      },
      "source": [
        "check_accuracy(fixed_model, image_dataloader_val)#check accuracy on the validation set"
      ],
      "execution_count": 0,
      "outputs": [
        {
          "output_type": "stream",
          "text": [
            "Got 3190 / 6690 correct (47.68)\n"
          ],
          "name": "stdout"
        }
      ]
    },
    {
      "cell_type": "markdown",
      "metadata": {
        "id": "semoU3HhkPMT",
        "colab_type": "text"
      },
      "source": [
        "##### Train a better  model for action recognition!\n",
        "\n",
        "Now it's your job to experiment with architectures, hyperparameters, loss functions, and optimizers to train a model that achieves better accuracy on the action recognition **validation** set. You can use the check_accuracy and train functions from above."
      ]
    },
    {
      "cell_type": "markdown",
      "metadata": {
        "id": "5RHfxXULkPMU",
        "colab_type": "text"
      },
      "source": [
        "### Things you should try:\n",
        "- **Filter size**: Above we used 7x7; this makes pretty pictures but smaller filters may be more efficient\n",
        "- **Number of filters**: Do more or fewer do better?\n",
        "- **Pooling vs Strided Convolution**: Do you use max pooling or just stride convolutions?\n",
        "- **Batch normalization**: Try adding spatial batch normalization after convolution layers and vanilla batch normalization after affine layers. Do your networks train faster?\n",
        "- **Network architecture**: The network above has two layers of trainable parameters. Can you do better with a deep network? Good architectures to try include:\n",
        "    - [conv-relu-pool]xN -> [affine]xM -> [softmax or SVM]\n",
        "    - [conv-relu-conv-relu-pool]xN -> [affine]xM -> [softmax or SVM]\n",
        "    - [batchnorm-relu-conv]xN -> [affine]xM -> [softmax or SVM]\n",
        "- **Global Average Pooling**: Instead of flattening and then having multiple affine layers, perform convolutions until your image gets small (7x7 or so) and then perform an average pooling operation to get to a 1x1 image picture (1, 1 , Filter#), which is then reshaped into a (Filter#) vector. This is used in [Google's Inception Network](https://arxiv.org/abs/1512.00567) (See Table 1 for their architecture).\n",
        "- **Regularization**: Add l2 weight regularization, or perhaps use Dropout.\n",
        "\n",
        "### Tips for training\n",
        "For each network architecture that you try, you should tune the learning rate and regularization strength. When doing this there are a couple important things to keep in mind:\n",
        "\n",
        "- If the parameters are working well, you should see improvement within a few hundred iterations\n",
        "- Remember the coarse-to-fine approach for hyperparameter tuning: start by testing a large range of hyperparameters for just a few training iterations to find the combinations of parameters that are working at all.\n",
        "- Once you have found some sets of parameters that seem to work, search more finely around these parameters. You may need to train for more epochs.\n",
        "- You should use the validation set for hyperparameter search, and save your test set for evaluating your architecture on the best parameters as selected by the validation set.\n",
        "\n",
        "### Going above and beyond\n",
        "If you are feeling adventurous there are many other features you can implement to try and improve your performance. You are **not required** to implement any of these; however they would be good things to try.\n",
        "\n",
        "- Alternative update steps: For the assignment we implemented SGD+momentum, RMSprop, and Adam; you could try alternatives like AdaGrad or AdaDelta.\n",
        "- Alternative activation functions such as leaky ReLU, parametric ReLU, ELU, or MaxOut.\n",
        "- Model ensembles\n",
        "- Data augmentation\n",
        "- New Architectures\n",
        "  - [ResNets](https://arxiv.org/abs/1512.03385) where the input from the previous layer is added to the output.\n",
        "  - [DenseNets](https://arxiv.org/abs/1608.06993) where inputs into previous layers are concatenated together.\n",
        "  - [This blog has an in-depth overview](https://chatbotslife.com/resnets-highwaynets-and-densenets-oh-my-9bb15918ee32)\n",
        "\n",
        "If you do decide to implement something extra, clearly describe it in the \"Extra Credit Description\" cell below.\n",
        "\n",
        "### What we expect\n",
        "At the very least, you should be able to train a ConvNet that gets at least 55% accuracy on the validation set. This is just a lower bound - if you are careful it should be possible to get accuracies much higher than that! Extra credit points will be awarded for particularly high-scoring models or unique approaches.\n",
        "\n",
        "You should use the space below to experiment and train your network. \n",
        "\n"
      ]
    },
    {
      "cell_type": "code",
      "metadata": {
        "id": "0F7ywrKc7xUY",
        "colab_type": "code",
        "colab": {}
      },
      "source": [
        "device = torch.device('cuda:0')"
      ],
      "execution_count": 0,
      "outputs": []
    },
    {
      "cell_type": "code",
      "metadata": {
        "id": "2dpFpafx6Imm",
        "colab_type": "code",
        "colab": {}
      },
      "source": [
        "def train_faster(model, loss_fn, optimizer, dataloader, num_epochs = 1):\n",
        "    for epoch in range(num_epochs):\n",
        "        print('Starting epoch %d / %d' % (epoch + 1, num_epochs))\n",
        "        model.train()\n",
        "        for t, sample in enumerate(dataloader):\n",
        "            x_var = Variable(sample['image']).to(device)\n",
        "            y_var = Variable(sample['Label'].long()).to(device)\n",
        "\n",
        "            scores = model(x_var)\n",
        "            \n",
        "            loss = loss_fn(scores, y_var)\n",
        "            if (t + 1) % print_every == 0:\n",
        "                print('t = %d, loss = %.4f' % (t + 1, loss.item()))\n",
        "\n",
        "            optimizer.zero_grad()\n",
        "            loss.backward()\n",
        "            optimizer.step()"
      ],
      "execution_count": 0,
      "outputs": []
    },
    {
      "cell_type": "code",
      "metadata": {
        "id": "wORUpP3LHhi3",
        "colab_type": "code",
        "colab": {}
      },
      "source": [
        "def check_accuracy_faster(model, loader):\n",
        "    '''\n",
        "    if loader.dataset.train:\n",
        "        print('Checking accuracy on validation set')\n",
        "    else:\n",
        "        print('Checking accuracy on test set')  \n",
        "    '''\n",
        "    num_correct = 0\n",
        "    num_samples = 0\n",
        "    model.eval() # Put the model in test mode (the opposite of model.train(), essentially)\n",
        "    for t, sample in enumerate(loader):\n",
        "        x_var = Variable(sample['image'].cuda())\n",
        "        y_var = sample['Label'].cuda()\n",
        "        y_var=y_var.cpu()\n",
        "        scores = model(x_var)\n",
        "        _, preds = scores.data.cpu().max(1)\n",
        "        #print(preds)\n",
        "        #print(y_var)\n",
        "        num_correct += (preds.numpy() == y_var.numpy()).sum()\n",
        "        num_samples += preds.size(0)\n",
        "    acc = float(num_correct) / num_samples\n",
        "    print('Got %d / %d correct (%.2f)' % (num_correct, num_samples, 100 * acc))"
      ],
      "execution_count": 0,
      "outputs": []
    },
    {
      "cell_type": "code",
      "metadata": {
        "id": "E0U74IbQHRD9",
        "colab_type": "code",
        "outputId": "fe356673-484b-49d7-ea82-20009da44ce3",
        "colab": {
          "base_uri": "https://localhost:8080/",
          "height": 850
        }
      },
      "source": [
        "# ##########3rd TODO (16 points, must submit the results to Kaggle) ##############\n",
        "# Train your model here, and make sure the output of this cell is the accuracy of your best model on the \n",
        "# train, val, and test sets. Here's some code to get you started. The output of this cell should be the training\n",
        "# and validation accuracy on your best model (measured by validation accuracy).\n",
        "\n",
        "gpu_dtype = torch.cuda.FloatTensor\n",
        "\n",
        "model = nn.Sequential(\n",
        "    nn.Conv2d(3, 32, kernel_size=5),\n",
        "    nn.ReLU(inplace=True),\n",
        "    nn.MaxPool2d(2, stride=2),\n",
        "    \n",
        "    nn.Conv2d(32, 64, kernel_size=5),\n",
        "    nn.ReLU(inplace=True),\n",
        "    nn.MaxPool2d(2, stride=2),\n",
        "    \n",
        "    nn.Conv2d(64, 128, kernel_size=3),\n",
        "    nn.ReLU(inplace=True),\n",
        "    nn.MaxPool2d(2, stride=2),\n",
        "    \n",
        "    Flatten(),\n",
        "    nn.Linear(3200, 1200),\n",
        "    nn.Dropout2d(p=0.4),\n",
        "    \n",
        "    nn.Linear(1200, 400),\n",
        "    nn.Dropout2d(p=0.4),\n",
        "\n",
        "    nn.Linear(400, 10), # affine layer\n",
        "    nn.LogSoftmax(dim=1),\n",
        "        )\n",
        "\n",
        "model = model.type(gpu_dtype)\n",
        "model.to(device)\n",
        "\n",
        "optimizer = optim.Adam(model.parameters(), lr=1e-4)\n",
        "loss_fn = nn.MultiMarginLoss().type(gpu_dtype)\n",
        "\n",
        "train_faster(model, loss_fn, optimizer,image_dataloader_train, num_epochs=6)\n",
        "check_accuracy_faster(model, image_dataloader_val)"
      ],
      "execution_count": 0,
      "outputs": [
        {
          "output_type": "stream",
          "text": [
            "Starting epoch 1 / 6\n",
            "t = 100, loss = 0.4480\n",
            "t = 200, loss = 0.4049\n",
            "t = 300, loss = 0.2598\n",
            "t = 400, loss = 0.1089\n",
            "t = 500, loss = 0.1010\n",
            "t = 600, loss = 0.1456\n",
            "t = 700, loss = 0.0718\n",
            "Starting epoch 2 / 6\n",
            "t = 100, loss = 0.1185\n",
            "t = 200, loss = 0.0849\n",
            "t = 300, loss = 0.0545\n",
            "t = 400, loss = 0.0481\n",
            "t = 500, loss = 0.0796\n",
            "t = 600, loss = 0.0490\n",
            "t = 700, loss = 0.0302\n",
            "Starting epoch 3 / 6\n",
            "t = 100, loss = 0.0212\n",
            "t = 200, loss = 0.0388\n",
            "t = 300, loss = 0.0250\n",
            "t = 400, loss = 0.0090\n",
            "t = 500, loss = 0.0315\n",
            "t = 600, loss = 0.0134\n",
            "t = 700, loss = 0.0139\n",
            "Starting epoch 4 / 6\n",
            "t = 100, loss = 0.0263\n",
            "t = 200, loss = 0.0123\n",
            "t = 300, loss = 0.0741\n",
            "t = 400, loss = 0.0278\n",
            "t = 500, loss = 0.0147\n",
            "t = 600, loss = 0.0040\n",
            "t = 700, loss = 0.0316\n",
            "Starting epoch 5 / 6\n",
            "t = 100, loss = 0.0068\n",
            "t = 200, loss = 0.0074\n",
            "t = 300, loss = 0.0014\n",
            "t = 400, loss = 0.0120\n",
            "t = 500, loss = 0.0155\n",
            "t = 600, loss = 0.0182\n",
            "t = 700, loss = 0.0035\n",
            "Starting epoch 6 / 6\n",
            "t = 100, loss = 0.0020\n",
            "t = 200, loss = 0.0207\n",
            "t = 300, loss = 0.0257\n",
            "t = 400, loss = 0.0198\n",
            "t = 500, loss = 0.0000\n",
            "t = 600, loss = 0.0036\n",
            "t = 700, loss = 0.0052\n",
            "Got 4086 / 6690 correct (61.08)\n"
          ],
          "name": "stdout"
        }
      ]
    },
    {
      "cell_type": "markdown",
      "metadata": {
        "id": "820wutYlkPMW",
        "colab_type": "text"
      },
      "source": [
        "### Describe what you did \n",
        "\n",
        "In the cell below you should write an explanation of what you did, any additional features that you implemented, and any visualizations or graphs that you make in the process of training and evaluating your network."
      ]
    },
    {
      "cell_type": "markdown",
      "metadata": {
        "id": "qXdQGwX-kPMX",
        "colab_type": "text"
      },
      "source": [
        "Tell us here!\n",
        "###########4th TODO (4 points) ##############\n",
        "\n",
        "**Filter size** - Using smaller filter size gave better accuracy.\n",
        "\n",
        "**Number of layers** - Increasing the number of layers imporved the accuracy\n",
        "\n",
        "**Dropout** - Adding dropout imrpoved the validation accuracy.\n",
        "\n",
        "**Optimizer**- Adam performed better than RMSProp.\n",
        "\n",
        "Network - Architecture\n",
        "\n",
        "*\t5 X 5 convolution layer with 32 filters and default stride 1.\n",
        "*\tReLU layer.\n",
        "*\tMax Pool layer with size 2X2 and stride 2.\n",
        "*\t5 X 5 convolution layer with 64 filters and default stride 1.\n",
        "*\tReLU layer.\n",
        "*\tMax Pool layer with size 2X2 and default stride 1.\n",
        "*\t3 X 3 convolution layer with 128 filters and default stride 1.\n",
        "*\tReLU layer.\n",
        "*\tMax Pool layer with size 2X2 and stride 1.\n",
        "*\tFlatten.\n",
        "*\tAffine Layer to reduce inputs from 3200 to 1200.\n",
        "*\tDropout layer with probability 0.4.\n",
        "*\tAffine Layer to reduce inputs from 1200 to 400.\n",
        "*\tDropout layer with probability 0.4.\n",
        "*\tAffine Layer to reduce inputs from 400 to 10.\n",
        "*\tLogSoftmax.\n",
        "*\tOptimizer is Adam\n",
        "*\tLoss Function is MultiMarginLoss\n",
        "*\tTotal Epochs = 6\n",
        "*\tlearning rate = 1e-4"
      ]
    },
    {
      "cell_type": "markdown",
      "metadata": {
        "id": "YRQJckf7kPMX",
        "colab_type": "text"
      },
      "source": [
        "### Testing the model and submit on Kaggle\n",
        "Testing the model on the testing set and save the results as a .csv file. \n",
        "Please submitted the results.csv file generated by predict_on_test() to Kaggle(https://www.kaggle.com/c/cse512springhw3) to see how well your network performs on the test set. \n",
        "#######5th TODO (submit the result to Kaggle, the highest 3 entries get extra 10 points )###############"
      ]
    },
    {
      "cell_type": "code",
      "metadata": {
        "id": "w938EiMSkPMY",
        "colab_type": "code",
        "outputId": "f51c5639-7e27-4cc8-d272-90be22bc2e06",
        "colab": {
          "base_uri": "https://localhost:8080/",
          "height": 34
        }
      },
      "source": [
        "def predict_on_test(model, loader):\n",
        "    '''\n",
        "    if loader.dataset.train:\n",
        "        print('Checking accuracy on validation set')\n",
        "    else:\n",
        "        print('Checking accuracy on test set')  \n",
        "    '''\n",
        "    num_correct = 0\n",
        "    num_samples = 0\n",
        "    model.eval() # Put the model in test mode (the opposite of model.train(), essentially)\n",
        "    results=open('results.csv','w')\n",
        "    count=0\n",
        "    results.write('Id'+','+'Class'+'\\n')\n",
        "    for t, sample in enumerate(loader):\n",
        "        x_var = Variable(sample['image']).type(dtype)\n",
        "        x_var = x_var.to(device)\n",
        "        scores = model(x_var)\n",
        "        _, preds = scores.data.max(1)\n",
        "        for i in range(len(preds)):\n",
        "            results.write(str(count)+','+str(preds[i].item())+'\\n')\n",
        "            count+=1\n",
        "    results.close()\n",
        "    return count\n",
        "    \n",
        "count=predict_on_test(model, image_dataloader_test)\n",
        "print(count)"
      ],
      "execution_count": 0,
      "outputs": [
        {
          "output_type": "stream",
          "text": [
            "9810\n"
          ],
          "name": "stdout"
        }
      ]
    },
    {
      "cell_type": "code",
      "metadata": {
        "id": "rBjyaon6PNa0",
        "colab_type": "code",
        "outputId": "ed715d20-a13d-440c-f7f6-82b4f805dc73",
        "colab": {
          "base_uri": "https://localhost:8080/",
          "height": 34
        }
      },
      "source": [
        "count = {i: False for i in range(1, 3271)}\n",
        "for i in sorted(os.listdir('/content/drive/My Drive/hw6(1)/Question2/data/testClips')):\n",
        "  if int(i) in count:\n",
        "    count[int(i)] = True\n",
        "\n",
        "x = [i for i in count if count[i] == False]\n",
        "print(x)"
      ],
      "execution_count": 0,
      "outputs": [
        {
          "output_type": "stream",
          "text": [
            "[]\n"
          ],
          "name": "stdout"
        }
      ]
    },
    {
      "cell_type": "markdown",
      "metadata": {
        "id": "CDpUVf4ekPMa",
        "colab_type": "text"
      },
      "source": [
        "### GPU! (This part is optional, 0 points)\n",
        "\n",
        "If you have access to GPU, you can make the code run on GPU, it would be much faster. \n",
        "\n",
        "Now, we're going to switch the dtype of the model and our data to the GPU-friendly tensors, and see what happens... everything is the same, except we are casting our model and input tensors as this new dtype instead of the old one.\n",
        "\n",
        "If this returns false, or otherwise fails in a not-graceful way (i.e., with some error message), you may not have an NVIDIA GPU available on your machine. "
      ]
    },
    {
      "cell_type": "code",
      "metadata": {
        "id": "yJqAoplfkPMb",
        "colab_type": "code",
        "colab": {}
      },
      "source": [
        "# Verify that CUDA is properly configured and you have a GPU available\n",
        "torch.cuda.is_available()"
      ],
      "execution_count": 0,
      "outputs": []
    },
    {
      "cell_type": "code",
      "metadata": {
        "id": "qwce2EZAkPMc",
        "colab_type": "code",
        "colab": {}
      },
      "source": [
        "import copy\n",
        "gpu_dtype = torch.cuda.FloatTensor\n",
        "\n",
        "fixed_model_gpu = copy.deepcopy(fixed_model_base)#.type(gpu_dtype)\n",
        "fixed_model_gpu.cuda()\n",
        "x_gpu = torch.randn(4, 3, 64, 64).cuda()#.type(gpu_dtype)\n",
        "x_var_gpu = Variable(x_gpu)#type(gpu_dtype)) # Construct a PyTorch Variable out of your input data\n",
        "ans = fixed_model_gpu(x_var_gpu)        # Feed it through the model! \n",
        "\n",
        "# Check to make sure what comes out of your model\n",
        "# is the right dimensionality... this should be True\n",
        "# if you've done everything correctly\n",
        "np.array_equal(np.array(ans.size()), np.array([4, 10]))"
      ],
      "execution_count": 0,
      "outputs": []
    },
    {
      "cell_type": "markdown",
      "metadata": {
        "id": "hOuJtsChkPMe",
        "colab_type": "text"
      },
      "source": [
        "Run the following cell to evaluate the performance of the forward pass running on the CPU:"
      ]
    },
    {
      "cell_type": "code",
      "metadata": {
        "id": "CpeGKOj3kPMf",
        "colab_type": "code",
        "colab": {}
      },
      "source": [
        "%%timeit \n",
        "ans = fixed_model(x_var)"
      ],
      "execution_count": 0,
      "outputs": []
    },
    {
      "cell_type": "markdown",
      "metadata": {
        "id": "iwpUgIz8kPMg",
        "colab_type": "text"
      },
      "source": [
        "... and now the GPU:"
      ]
    },
    {
      "cell_type": "code",
      "metadata": {
        "id": "IT_z4oEfkPMh",
        "colab_type": "code",
        "colab": {}
      },
      "source": [
        "%%timeit \n",
        "torch.cuda.synchronize() # Make sure there are no pending GPU computations\n",
        "ans = fixed_model_gpu(x_var_gpu)        # Feed it through the model! \n",
        "torch.cuda.synchronize() # Make sure there are no pending GPU computations"
      ],
      "execution_count": 0,
      "outputs": []
    },
    {
      "cell_type": "markdown",
      "metadata": {
        "id": "YDB3086NkPMi",
        "colab_type": "text"
      },
      "source": [
        "You should observe that even a simple forward pass like this is significantly faster on the GPU. So for the rest of the assignment (and when you go train your models in assignment 3 and your project!), you should use the GPU datatype for your model and your tensors: as a reminder that is *torch.cuda.FloatTensor* (in our notebook here as *gpu_dtype*)"
      ]
    },
    {
      "cell_type": "markdown",
      "metadata": {
        "id": "bSdYYF11kPMj",
        "colab_type": "text"
      },
      "source": [
        "Let's make the loss function and training variables to GPU friendly format by '.cuda()'"
      ]
    },
    {
      "cell_type": "code",
      "metadata": {
        "id": "YjrCod_ckPMj",
        "colab_type": "code",
        "colab": {}
      },
      "source": [
        "loss_fn = nn.CrossEntropyLoss().cuda()\n",
        "optimizer = optim.RMSprop(fixed_model_gpu.parameters(), lr=1e-4)"
      ],
      "execution_count": 0,
      "outputs": []
    },
    {
      "cell_type": "code",
      "metadata": {
        "id": "CG0ajhwykPMl",
        "colab_type": "code",
        "colab": {}
      },
      "source": [
        "def train(model, loss_fn, optimizer, dataloader, num_epochs = 1):\n",
        "    for epoch in range(num_epochs):\n",
        "        print('Starting epoch %d / %d' % (epoch + 1, num_epochs))\n",
        "        model.train()\n",
        "        for t, sample in enumerate(dataloader):\n",
        "            x_var = Variable(sample['image'].cuda())\n",
        "            y_var = Variable(sample['Label'].cuda().long())\n",
        "\n",
        "            scores = model(x_var)\n",
        "            \n",
        "            loss = loss_fn(scores, y_var)\n",
        "            if (t + 1) % print_every == 0:\n",
        "                print('t = %d, loss = %.4f' % (t + 1, loss.data[0]))\n",
        "\n",
        "            optimizer.zero_grad()\n",
        "            loss.backward()\n",
        "            optimizer.step()\n",
        "\n",
        "def check_accuracy(model, loader):\n",
        "    '''\n",
        "    if loader.dataset.train:\n",
        "        print('Checking accuracy on validation set')\n",
        "    else:\n",
        "        print('Checking accuracy on test set')  \n",
        "    '''\n",
        "    num_correct = 0\n",
        "    num_samples = 0\n",
        "    model.eval() # Put the model in test mode (the opposite of model.train(), essentially)\n",
        "    for t, sample in enumerate(loader):\n",
        "        x_var = Variable(sample['image'].cuda())\n",
        "        y_var = sample['Label'].cuda()\n",
        "        y_var=y_var.cpu()\n",
        "        scores = model(x_var)\n",
        "        _, preds = scores.data.cpu().max(1)\n",
        "        #print(preds)\n",
        "        #print(y_var)\n",
        "        num_correct += (preds.numpy() == y_var.numpy()).sum()\n",
        "        num_samples += preds.size(0)\n",
        "    acc = float(num_correct) / num_samples\n",
        "    print('Got %d / %d correct (%.2f)' % (num_correct, num_samples, 100 * acc))"
      ],
      "execution_count": 0,
      "outputs": []
    },
    {
      "cell_type": "markdown",
      "metadata": {
        "id": "tU3QVxPAkPMu",
        "colab_type": "text"
      },
      "source": [
        "Run on GPU!"
      ]
    },
    {
      "cell_type": "code",
      "metadata": {
        "id": "KohPKS4ukPMu",
        "colab_type": "code",
        "colab": {}
      },
      "source": [
        "torch.cuda.random.manual_seed(12345)\n",
        "\n",
        "fixed_model_gpu.apply(reset) \n",
        "fixed_model_gpu.train() \n",
        "train(fixed_model_gpu, loss_fn, optimizer,image_dataloader_train, num_epochs=1) \n",
        "check_accuracy(fixed_model_gpu, image_dataloader_train)# check accuracy on the training set\n"
      ],
      "execution_count": 0,
      "outputs": []
    },
    {
      "cell_type": "markdown",
      "metadata": {
        "id": "ADGxoB79kPMw",
        "colab_type": "text"
      },
      "source": [
        "### 3D Convolution on video clips (25 points+10 extra points)\n",
        "3D convolution is for videos, it has one more dimension than 2d convolution. You can find the document for 3D convolution here http://pytorch.org/docs/master/nn.html#torch.nn.Conv3dIn. In our dataset, each clip is a video of 3 frames. Lets classify the each clip rather than each image using 3D convolution.\n",
        "We offer the data loader, the train_3d and check_accuracy"
      ]
    },
    {
      "cell_type": "code",
      "metadata": {
        "id": "D0qFHPIQkPMw",
        "colab_type": "code",
        "outputId": "b7f7a540-31e2-4cd4-a755-83ae6eb19acf",
        "colab": {
          "base_uri": "https://localhost:8080/",
          "height": 527
        }
      },
      "source": [
        "class ActionClipDataset(Dataset):\n",
        "    \"\"\"Action Landmarks dataset.\"\"\"\n",
        "\n",
        "    def __init__(self,  root_dir,labels=[], transform=None):\n",
        "        \"\"\"\n",
        "        Args:\n",
        "            csv_file (string): Path to the csv file with annotations.\n",
        "            root_dir (string): Directory with all the images.\n",
        "            transform (callable, optional): Optional transform to be applied\n",
        "                on a sample.\n",
        "        \"\"\"\n",
        "        \n",
        "        self.root_dir = root_dir\n",
        "        self.transform = transform\n",
        "        self.length=len(os.listdir(self.root_dir))\n",
        "        self.labels=labels\n",
        "\n",
        "    def __len__(self):\n",
        "        return self.length\n",
        "\n",
        "    def __getitem__(self, idx):\n",
        "        \n",
        "        folder=idx+1\n",
        "        folder=format(folder,'05d')\n",
        "        clip=[]\n",
        "        if len(self.labels)!=0:\n",
        "            Label=self.labels[idx][0]-1\n",
        "        for i in range(3):\n",
        "            imidx=i+1\n",
        "            imgname=str(imidx)+'.jpg'\n",
        "            img_path = os.path.join(self.root_dir,\n",
        "                                    folder,imgname)\n",
        "            image = Image.open(img_path)\n",
        "            image=np.array(image)\n",
        "            clip.append(image)\n",
        "        if self.transform:\n",
        "            clip=np.asarray(clip)\n",
        "            clip=np.transpose(clip, (0,3,1,2))\n",
        "            clip = torch.from_numpy(np.asarray(clip))\n",
        "        if len(self.labels)!=0:\n",
        "            sample={'clip':clip,'Label':Label,'folder':folder}\n",
        "        else:\n",
        "            sample={'clip':clip,'folder':folder}\n",
        "        return sample\n",
        "\n",
        "clip_dataset=ActionClipDataset(root_dir='./data/trainClips/',\\\n",
        "                               labels=label_train,transform=T.ToTensor())#/home/tqvinh/Study/CSE512/cse512-s18/hw2data/trainClips/\n",
        "for i in range(10):\n",
        "    sample=clip_dataset[i]\n",
        "    print(sample['clip'].shape)\n",
        "    print(sample['Label'])\n",
        "    print(sample['folder'])"
      ],
      "execution_count": 0,
      "outputs": [
        {
          "output_type": "stream",
          "text": [
            "torch.Size([3, 3, 64, 64])\n",
            "0.0\n",
            "00001\n",
            "torch.Size([3, 3, 64, 64])\n",
            "0.0\n",
            "00002\n",
            "torch.Size([3, 3, 64, 64])\n",
            "0.0\n",
            "00003\n",
            "torch.Size([3, 3, 64, 64])\n",
            "0.0\n",
            "00004\n",
            "torch.Size([3, 3, 64, 64])\n",
            "0.0\n",
            "00005\n",
            "torch.Size([3, 3, 64, 64])\n",
            "0.0\n",
            "00006\n",
            "torch.Size([3, 3, 64, 64])\n",
            "0.0\n",
            "00007\n",
            "torch.Size([3, 3, 64, 64])\n",
            "0.0\n",
            "00008\n",
            "torch.Size([3, 3, 64, 64])\n",
            "0.0\n",
            "00009\n",
            "torch.Size([3, 3, 64, 64])\n",
            "0.0\n",
            "00010\n"
          ],
          "name": "stdout"
        }
      ]
    },
    {
      "cell_type": "code",
      "metadata": {
        "id": "Mi4FbAlokPMy",
        "colab_type": "code",
        "outputId": "8ac618a7-878d-4f33-a2d4-51c6c77ec09f",
        "colab": {
          "base_uri": "https://localhost:8080/",
          "height": 391
        }
      },
      "source": [
        "clip_dataloader = DataLoader(clip_dataset, batch_size=4,\n",
        "                        shuffle=True, num_workers=4)\n",
        "\n",
        "\n",
        "for i,sample in enumerate(clip_dataloader):\n",
        "    print(i,sample['clip'].shape,sample['folder'],sample['Label'])\n",
        "    if i>20: \n",
        "        break"
      ],
      "execution_count": 0,
      "outputs": [
        {
          "output_type": "stream",
          "text": [
            "0 torch.Size([4, 3, 3, 64, 64]) ['01224', '01195', '07106', '00745'] tensor([1., 1., 8., 0.])\n",
            "1 torch.Size([4, 3, 3, 64, 64]) ['01736', '00392', '01916', '02771'] tensor([1., 0., 2., 3.])\n",
            "2 torch.Size([4, 3, 3, 64, 64]) ['02591', '04406', '03347', '03265'] tensor([2., 5., 3., 3.])\n",
            "3 torch.Size([4, 3, 3, 64, 64]) ['00766', '03848', '01126', '00953'] tensor([0., 4., 1., 1.])\n",
            "4 torch.Size([4, 3, 3, 64, 64]) ['04879', '01283', '01206', '00645'] tensor([5., 1., 1., 0.])\n",
            "5 torch.Size([4, 3, 3, 64, 64]) ['01338', '05020', '04095', '05501'] tensor([1., 6., 4., 6.])\n",
            "6 torch.Size([4, 3, 3, 64, 64]) ['05183', '04958', '01614', '02537'] tensor([6., 5., 1., 2.])\n",
            "7 torch.Size([4, 3, 3, 64, 64]) ['02678', '05098', '04858', '05709'] tensor([3., 6., 5., 7.])\n",
            "8 torch.Size([4, 3, 3, 64, 64]) ['06736', '06228', '00691', '05274'] tensor([8., 7., 0., 6.])\n",
            "9 torch.Size([4, 3, 3, 64, 64]) ['05942', '07594', '07513', '06638'] tensor([7., 9., 9., 8.])\n",
            "10 torch.Size([4, 3, 3, 64, 64]) ['05999', '05756', '04110', '05258'] tensor([7., 7., 4., 6.])\n",
            "11 torch.Size([4, 3, 3, 64, 64]) ['04323', '04803', '05312', '05035'] tensor([5., 5., 6., 6.])\n",
            "12 torch.Size([4, 3, 3, 64, 64]) ['01247', '03136', '07689', '06235'] tensor([1., 3., 9., 7.])\n",
            "13 torch.Size([4, 3, 3, 64, 64]) ['01460', '04333', '04012', '05588'] tensor([1., 5., 4., 6.])\n",
            "14 torch.Size([4, 3, 3, 64, 64]) ['00782', '06143', '06916', '05652'] tensor([0., 7., 8., 7.])\n",
            "15 torch.Size([4, 3, 3, 64, 64]) ['07680', '05581', '07462', '05924'] tensor([9., 6., 9., 7.])\n",
            "16 torch.Size([4, 3, 3, 64, 64]) ['03315', '02636', '00851', '07296'] tensor([3., 2., 0., 9.])\n",
            "17 torch.Size([4, 3, 3, 64, 64]) ['01830', '00468', '02619', '01886'] tensor([2., 0., 2., 2.])\n",
            "18 torch.Size([4, 3, 3, 64, 64]) ['03908', '01928', '01139', '06589'] tensor([4., 2., 1., 8.])\n",
            "19 torch.Size([4, 3, 3, 64, 64]) ['04967', '01304', '00091', '06546'] tensor([5., 1., 0., 8.])\n",
            "20 torch.Size([4, 3, 3, 64, 64]) ['02429', '00916', '06186', '00992'] tensor([2., 1., 7., 1.])\n",
            "21 torch.Size([4, 3, 3, 64, 64]) ['03174', '06955', '04509', '03447'] tensor([3., 8., 5., 3.])\n"
          ],
          "name": "stdout"
        }
      ]
    },
    {
      "cell_type": "code",
      "metadata": {
        "id": "RYMeYOpHkPM0",
        "colab_type": "code",
        "colab": {}
      },
      "source": [
        "clip_dataset_train=ActionClipDataset(root_dir='./data/trainClips/',labels=label_train,transform=T.ToTensor())\n",
        "\n",
        "clip_dataloader_train = DataLoader(clip_dataset_train, batch_size=16,\n",
        "                        shuffle=True, num_workers=4)\n",
        "clip_dataset_val=ActionClipDataset(root_dir='./data/valClips/',labels=label_val,transform=T.ToTensor())\n",
        "\n",
        "clip_dataloader_val = DataLoader(clip_dataset_val, batch_size=16,\n",
        "                        shuffle=True, num_workers=4)\n",
        "clip_dataset_test=ActionClipDataset(root_dir='./data/testClips/',labels=[],transform=T.ToTensor())\n",
        "\n",
        "clip_dataloader_test = DataLoader(clip_dataset_test, batch_size=16,\n",
        "                        shuffle=False, num_workers=4)"
      ],
      "execution_count": 0,
      "outputs": []
    },
    {
      "cell_type": "markdown",
      "metadata": {
        "id": "xSNFn7BqkPM3",
        "colab_type": "text"
      },
      "source": [
        "Write the Flatten for 3d covolution feature maps."
      ]
    },
    {
      "cell_type": "code",
      "metadata": {
        "id": "LrRuCRQDkPM3",
        "colab_type": "code",
        "colab": {}
      },
      "source": [
        "class Flatten3d(nn.Module):\n",
        "    def forward(self, x):\n",
        "      N, C, F, H, W = x.size() # read in N, C, F, H, W\n",
        "      return x.view(N, -1)"
      ],
      "execution_count": 0,
      "outputs": []
    },
    {
      "cell_type": "markdown",
      "metadata": {
        "id": "__Su4Lr6kPM4",
        "colab_type": "text"
      },
      "source": [
        "Design a network using 3D convolution on videos for video classification."
      ]
    },
    {
      "cell_type": "code",
      "metadata": {
        "id": "nE4ZVNPakPM5",
        "colab_type": "code",
        "outputId": "e9b55850-e4e5-4d9c-ec1c-2ad9dfaa1551",
        "colab": {
          "base_uri": "https://localhost:8080/",
          "height": 34
        }
      },
      "source": [
        "fixed_model_3d = nn.Sequential( # You fill this in!\n",
        "  ###############7th TODO (16 points)#########################\n",
        "  nn.Conv3d(3, 32, kernel_size=(1, 3, 3)),\n",
        "  nn.ReLU(inplace=True),\n",
        "  nn.MaxPool3d((1,2,2), stride=(1,2,2)),\n",
        "    \n",
        "  nn.Conv3d(32, 64, kernel_size=(1, 3, 3)),\n",
        "  nn.ReLU(inplace=True),\n",
        "  nn.MaxPool3d((1,2,2), stride=(1,2,2)),\n",
        "    \n",
        "  nn.Conv3d(64, 128, kernel_size=(1, 3, 3)),\n",
        "  nn.ReLU(inplace=True),\n",
        "  nn.MaxPool3d((1,2,2), stride=(1,2,2)),\n",
        "    \n",
        "  Flatten3d(),\n",
        "    \n",
        "  nn.ReLU(inplace=True),\n",
        "  nn.Dropout3d(p=0.4),\n",
        "  nn.Linear(13824, 1200), \n",
        "    \n",
        "  nn.ReLU(inplace=True),\n",
        "  nn.Dropout3d(p=0.4),\n",
        "  nn.Linear(1200, 400), \n",
        "    \n",
        "  nn.ReLU(inplace=True),\n",
        "  nn.Dropout3d(p=0.4),\n",
        "  nn.Linear(400, 10),\n",
        "  nn.LogSoftmax(dim=1)\n",
        ")\n",
        "\n",
        "fixed_model_3d = fixed_model_3d.type(dtype)\n",
        "x = torch.randn(32,3, 3, 64, 64).type(dtype)\n",
        "x_var = Variable(x).type(dtype)\n",
        "ans = fixed_model_3d(x_var) \n",
        "np.array_equal(np.array(ans.size()), np.array([32, 10]))\n"
      ],
      "execution_count": 0,
      "outputs": [
        {
          "output_type": "execute_result",
          "data": {
            "text/plain": [
              "True"
            ]
          },
          "metadata": {
            "tags": []
          },
          "execution_count": 69
        }
      ]
    },
    {
      "cell_type": "markdown",
      "metadata": {
        "id": "ImDfF-UckPM6",
        "colab_type": "text"
      },
      "source": [
        "### Describe what you did (4 points)\n",
        "\n",
        "In the cell below you should write an explanation of what you did, any additional features that you implemented, and any visualizations or graphs that you make in the process of training and evaluating your network."
      ]
    },
    {
      "cell_type": "markdown",
      "metadata": {
        "id": "JvWEmVh285GB",
        "colab_type": "text"
      },
      "source": [
        "Network - Architecture\n",
        "\n",
        "*\t5 X 5 convolution layer with 32 filters and default stride 1.\n",
        "*\tReLU layer.\n",
        "*\tMax Pool layer with size 2X2 and stride 2.\n",
        "*\t5 X 5 convolution layer with 64 filters and default stride 1.\n",
        "*\tReLU layer.\n",
        "*\tMax Pool layer with size 2X2 and default stride 1.\n",
        "*\t3 X 3 convolution layer with 128 filters and default stride 1.\n",
        "*\tReLU layer.\n",
        "*\tMax Pool layer with size 2X2 and stride 1.\n",
        "*\tFlatten.\n",
        "* ReLU layer.\n",
        "*\tDropout layer with probability 0.4.\n",
        "*\tLinear Layer to reduce inputs from 13824 to 1200.\n",
        "* ReLU layer.\n",
        "*\tDropout layer with probability 0.4.\n",
        "*\tLinear Layer to reduce inputs from 1200 to 400.\n",
        "* ReLU layer.\n",
        "*\tDropout layer with probability 0.4.\n",
        "*\tLinear Layer to reduce inputs from 400 to 10.\n",
        "*\tLogSoftmax.\n",
        "*\tOptimizer is RMSprop\n",
        "*\tTotal Epochs = 1\n",
        "*\tlearning rate = 1e-4"
      ]
    },
    {
      "cell_type": "markdown",
      "metadata": {
        "id": "tuv0S-4OkPM6",
        "colab_type": "text"
      },
      "source": [
        "### 8th TODO Tell us here:"
      ]
    },
    {
      "cell_type": "code",
      "metadata": {
        "id": "F-JU9DYRkPM7",
        "colab_type": "code",
        "colab": {}
      },
      "source": [
        "loss_fn = nn.CrossEntropyLoss().type(dtype)\n",
        "optimizer = optim.RMSprop(fixed_model_3d.parameters(), lr=1e-4)\n"
      ],
      "execution_count": 0,
      "outputs": []
    },
    {
      "cell_type": "code",
      "metadata": {
        "id": "eBJSbO8okPM9",
        "colab_type": "code",
        "colab": {}
      },
      "source": [
        "def train_3d(model, loss_fn, optimizer,dataloader,num_epochs = 1):\n",
        "    for epoch in range(num_epochs):\n",
        "        print('Starting epoch %d / %d' % (epoch + 1, num_epochs))\n",
        "        model.train()\n",
        "        for t, sample in enumerate(dataloader):\n",
        "            x_var = Variable(sample['clip'].type(dtype))\n",
        "            y_var = Variable(sample['Label'].type(dtype).long())\n",
        "\n",
        "            scores = model(x_var)\n",
        "            \n",
        "            loss = loss_fn(scores, y_var)\n",
        "            if (t + 1) % print_every == 0:\n",
        "                print('t = %d, loss = %.4f' % (t + 1, loss.item()))\n",
        "\n",
        "            optimizer.zero_grad()\n",
        "            loss.backward()\n",
        "            optimizer.step()\n",
        "\n",
        "def check_accuracy_3d(model, loader):\n",
        "    '''\n",
        "    if loader.dataset.train:\n",
        "        print('Checking accuracy on validation set')\n",
        "    else:\n",
        "        print('Checking accuracy on test set')  \n",
        "    '''\n",
        "    num_correct = 0\n",
        "    num_samples = 0\n",
        "    model.eval() # Put the model in test mode (the opposite of model.train(), essentially)\n",
        "    for t, sample in enumerate(loader):\n",
        "        x_var = Variable(sample['clip'].type(dtype))\n",
        "        y_var = sample['Label'].type(dtype)\n",
        "        y_var=y_var.cpu()\n",
        "        scores = model(x_var)\n",
        "        _, preds = scores.data.cpu().max(1)\n",
        "\n",
        "        num_correct += (preds.numpy() == y_var.numpy()).sum()\n",
        "        num_samples += preds.size(0)\n",
        "    acc = float(num_correct) / num_samples\n",
        "    print('Got %d / %d correct (%.2f)' % (num_correct, num_samples, 100 * acc))"
      ],
      "execution_count": 0,
      "outputs": []
    },
    {
      "cell_type": "code",
      "metadata": {
        "id": "nN-A4PgckPNA",
        "colab_type": "code",
        "outputId": "9ec4d345-27d3-4522-8e6c-20e05bd99bf3",
        "colab": {
          "base_uri": "https://localhost:8080/",
          "height": 119
        }
      },
      "source": [
        "torch.cuda.random.manual_seed(12345)\n",
        "fixed_model_3d.apply(reset) \n",
        "fixed_model_3d.train() \n",
        "train_3d(fixed_model_3d, loss_fn, optimizer,clip_dataloader_train, num_epochs=1) \n",
        "fixed_model_3d.eval() \n",
        "check_accuracy_3d(fixed_model_3d, clip_dataloader_val)"
      ],
      "execution_count": 0,
      "outputs": [
        {
          "output_type": "stream",
          "text": [
            "Starting epoch 1 / 1\n",
            "t = 100, loss = 1.6392\n",
            "t = 200, loss = 0.8907\n",
            "t = 300, loss = 0.9400\n",
            "t = 400, loss = 0.4647\n",
            "Got 1264 / 2230 correct (56.68)\n"
          ],
          "name": "stdout"
        }
      ]
    },
    {
      "cell_type": "markdown",
      "metadata": {
        "collapsed": true,
        "id": "U2S6l6EUkPNC",
        "colab_type": "text"
      },
      "source": [
        "Test your 3d convolution model on the validation set. You don't need to submit the result of this part to kaggle.  "
      ]
    },
    {
      "cell_type": "markdown",
      "metadata": {
        "collapsed": true,
        "id": "Nl9gKJqMkPNC",
        "colab_type": "text"
      },
      "source": [
        "Test your model on the test set, predict_on_test_3d() will generate a file named 'results_3d.csv'. Please submit the csv file to kaggle https://www.kaggle.com/c/cse512springhw3video\n",
        "The highest 3 entries get extra 10 points.\n"
      ]
    },
    {
      "cell_type": "code",
      "metadata": {
        "id": "6054Je3ikPNC",
        "colab_type": "code",
        "outputId": "c9d3f8e4-340e-470d-f159-9ad4ccd0da23",
        "colab": {
          "base_uri": "https://localhost:8080/",
          "height": 34
        }
      },
      "source": [
        "def predict_on_test_3d(model, loader):\n",
        "    '''\n",
        "    if loader.dataset.train:\n",
        "        print('Checking accuracy on validation set')\n",
        "    else:\n",
        "        print('Checking accuracy on test set')  \n",
        "    '''\n",
        "    num_correct = 0\n",
        "    num_samples = 0\n",
        "    model.eval() # Put the model in test mode (the opposite of model.train(), essentially)\n",
        "    results=open('results_3d.csv','w')\n",
        "    count=0\n",
        "    results.write('Id'+','+'Class'+'\\n')\n",
        "    for t, sample in enumerate(loader):\n",
        "        x_var = Variable(sample['clip'].type(dtype))\n",
        "        scores = model(x_var)\n",
        "        _, preds = scores.data.max(1)\n",
        "        for i in range(len(preds)):\n",
        "            results.write(str(count)+','+str(preds[i].item())+'\\n')\n",
        "            count+=1\n",
        "    results.close()\n",
        "    return count\n",
        "    \n",
        "count=predict_on_test_3d(fixed_model_3d, clip_dataloader_test)\n",
        "print(count)"
      ],
      "execution_count": 0,
      "outputs": [
        {
          "output_type": "stream",
          "text": [
            "3270\n"
          ],
          "name": "stdout"
        }
      ]
    }
  ]
}